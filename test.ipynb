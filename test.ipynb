{
 "cells": [
  {
   "cell_type": "code",
   "execution_count": 2,
   "metadata": {},
   "outputs": [],
   "source": [
    "import os.path\n",
    "import pickle\n",
    "import string\n",
    "from collections import Counter\n",
    "\n",
    "import nltk\n",
    "import pandas as pd\n",
    "from nltk.corpus import stopwords\n",
    "from nltk.stem.snowball import SnowballStemmer\n",
    "from nltk.tokenize import word_tokenize\n",
    "from sklearn.feature_extraction.text import TfidfVectorizer\n",
    "from sklearn.model_selection import train_test_split\n",
    "from sklearn.naive_bayes import ComplementNB\n",
    "from scipy.sparse import csr_matrix\n",
    "import numpy as np"
   ]
  },
  {
   "cell_type": "code",
   "execution_count": 9,
   "metadata": {},
   "outputs": [
    {
     "name": "stdout",
     "output_type": "stream",
     "text": [
      "[3]\n"
     ]
    },
    {
     "ename": "ValueError",
     "evalue": "The truth value of an array with more than one element is ambiguous. Use a.any() or a.all().",
     "output_type": "error",
     "traceback": [
      "\u001b[1;31m---------------------------------------------------------------------------\u001b[0m",
      "\u001b[1;31mValueError\u001b[0m                                Traceback (most recent call last)",
      "\u001b[1;32mf:\\PycharmProjects\\midterm-royyoung388\\test.ipynb Cell 2'\u001b[0m in \u001b[0;36m<module>\u001b[1;34m\u001b[0m\n\u001b[0;32m     <a href='vscode-notebook-cell:/f%3A/PycharmProjects/midterm-royyoung388/test.ipynb#ch0000015?line=10'>11</a>\u001b[0m     m\u001b[39m.\u001b[39mappend(csr_matrix([row]))\n\u001b[0;32m     <a href='vscode-notebook-cell:/f%3A/PycharmProjects/midterm-royyoung388/test.ipynb#ch0000015?line=11'>12</a>\u001b[0m a \u001b[39m=\u001b[39m pd\u001b[39m.\u001b[39mDataFrame(m)\n\u001b[1;32m---> <a href='vscode-notebook-cell:/f%3A/PycharmProjects/midterm-royyoung388/test.ipynb#ch0000015?line=12'>13</a>\u001b[0m temp \u001b[39m=\u001b[39m csr_matrix([a[\u001b[39m0\u001b[39;49m]])\n\u001b[0;32m     <a href='vscode-notebook-cell:/f%3A/PycharmProjects/midterm-royyoung388/test.ipynb#ch0000015?line=13'>14</a>\u001b[0m temp\n",
      "File \u001b[1;32mE:\\anaconda3\\envs\\cs506\\lib\\site-packages\\scipy\\sparse\\_compressed.py:85\u001b[0m, in \u001b[0;36m_cs_matrix.__init__\u001b[1;34m(self, arg1, shape, dtype, copy)\u001b[0m\n\u001b[0;32m     <a href='file:///e%3A/anaconda3/envs/cs506/lib/site-packages/scipy/sparse/_compressed.py?line=80'>81</a>\u001b[0m     \u001b[39mexcept\u001b[39;00m \u001b[39mException\u001b[39;00m \u001b[39mas\u001b[39;00m e:\n\u001b[0;32m     <a href='file:///e%3A/anaconda3/envs/cs506/lib/site-packages/scipy/sparse/_compressed.py?line=81'>82</a>\u001b[0m         \u001b[39mraise\u001b[39;00m \u001b[39mValueError\u001b[39;00m(\u001b[39m\"\u001b[39m\u001b[39munrecognized \u001b[39m\u001b[39m{}\u001b[39;00m\u001b[39m_matrix constructor usage\u001b[39m\u001b[39m\"\u001b[39m\n\u001b[0;32m     <a href='file:///e%3A/anaconda3/envs/cs506/lib/site-packages/scipy/sparse/_compressed.py?line=82'>83</a>\u001b[0m                          \u001b[39m\"\u001b[39m\u001b[39m\"\u001b[39m\u001b[39m.\u001b[39mformat(\u001b[39mself\u001b[39m\u001b[39m.\u001b[39mformat)) \u001b[39mfrom\u001b[39;00m \u001b[39me\u001b[39;00m\n\u001b[0;32m     <a href='file:///e%3A/anaconda3/envs/cs506/lib/site-packages/scipy/sparse/_compressed.py?line=83'>84</a>\u001b[0m     \u001b[39mself\u001b[39m\u001b[39m.\u001b[39m_set_self(\u001b[39mself\u001b[39m\u001b[39m.\u001b[39m\u001b[39m__class__\u001b[39m(\n\u001b[1;32m---> <a href='file:///e%3A/anaconda3/envs/cs506/lib/site-packages/scipy/sparse/_compressed.py?line=84'>85</a>\u001b[0m         \u001b[39mself\u001b[39;49m\u001b[39m.\u001b[39;49m_coo_container(arg1, dtype\u001b[39m=\u001b[39;49mdtype)\n\u001b[0;32m     <a href='file:///e%3A/anaconda3/envs/cs506/lib/site-packages/scipy/sparse/_compressed.py?line=85'>86</a>\u001b[0m     ))\n\u001b[0;32m     <a href='file:///e%3A/anaconda3/envs/cs506/lib/site-packages/scipy/sparse/_compressed.py?line=87'>88</a>\u001b[0m \u001b[39m# Read matrix dimensions given, if any\u001b[39;00m\n\u001b[0;32m     <a href='file:///e%3A/anaconda3/envs/cs506/lib/site-packages/scipy/sparse/_compressed.py?line=88'>89</a>\u001b[0m \u001b[39mif\u001b[39;00m shape \u001b[39mis\u001b[39;00m \u001b[39mnot\u001b[39;00m \u001b[39mNone\u001b[39;00m:\n",
      "File \u001b[1;32mE:\\anaconda3\\envs\\cs506\\lib\\site-packages\\scipy\\sparse\\_coo.py:189\u001b[0m, in \u001b[0;36mcoo_matrix.__init__\u001b[1;34m(self, arg1, shape, dtype, copy)\u001b[0m\n\u001b[0;32m    <a href='file:///e%3A/anaconda3/envs/cs506/lib/site-packages/scipy/sparse/_coo.py?line=184'>185</a>\u001b[0m     \u001b[39mif\u001b[39;00m check_shape(shape) \u001b[39m!=\u001b[39m \u001b[39mself\u001b[39m\u001b[39m.\u001b[39m_shape:\n\u001b[0;32m    <a href='file:///e%3A/anaconda3/envs/cs506/lib/site-packages/scipy/sparse/_coo.py?line=185'>186</a>\u001b[0m         \u001b[39mraise\u001b[39;00m \u001b[39mValueError\u001b[39;00m(\u001b[39m'\u001b[39m\u001b[39minconsistent shapes: \u001b[39m\u001b[39m%s\u001b[39;00m\u001b[39m != \u001b[39m\u001b[39m%s\u001b[39;00m\u001b[39m'\u001b[39m \u001b[39m%\u001b[39m\n\u001b[0;32m    <a href='file:///e%3A/anaconda3/envs/cs506/lib/site-packages/scipy/sparse/_coo.py?line=186'>187</a>\u001b[0m                          (shape, \u001b[39mself\u001b[39m\u001b[39m.\u001b[39m_shape))\n\u001b[1;32m--> <a href='file:///e%3A/anaconda3/envs/cs506/lib/site-packages/scipy/sparse/_coo.py?line=188'>189</a>\u001b[0m \u001b[39mself\u001b[39m\u001b[39m.\u001b[39mrow, \u001b[39mself\u001b[39m\u001b[39m.\u001b[39mcol \u001b[39m=\u001b[39m M\u001b[39m.\u001b[39;49mnonzero()\n\u001b[0;32m    <a href='file:///e%3A/anaconda3/envs/cs506/lib/site-packages/scipy/sparse/_coo.py?line=189'>190</a>\u001b[0m \u001b[39mself\u001b[39m\u001b[39m.\u001b[39mdata \u001b[39m=\u001b[39m M[\u001b[39mself\u001b[39m\u001b[39m.\u001b[39mrow, \u001b[39mself\u001b[39m\u001b[39m.\u001b[39mcol]\n\u001b[0;32m    <a href='file:///e%3A/anaconda3/envs/cs506/lib/site-packages/scipy/sparse/_coo.py?line=190'>191</a>\u001b[0m \u001b[39mself\u001b[39m\u001b[39m.\u001b[39mhas_canonical_format \u001b[39m=\u001b[39m \u001b[39mTrue\u001b[39;00m\n",
      "File \u001b[1;32mE:\\anaconda3\\envs\\cs506\\lib\\site-packages\\scipy\\sparse\\_base.py:337\u001b[0m, in \u001b[0;36mspmatrix.__bool__\u001b[1;34m(self)\u001b[0m\n\u001b[0;32m    <a href='file:///e%3A/anaconda3/envs/cs506/lib/site-packages/scipy/sparse/_base.py?line=334'>335</a>\u001b[0m     \u001b[39mreturn\u001b[39;00m \u001b[39mself\u001b[39m\u001b[39m.\u001b[39mnnz \u001b[39m!=\u001b[39m \u001b[39m0\u001b[39m\n\u001b[0;32m    <a href='file:///e%3A/anaconda3/envs/cs506/lib/site-packages/scipy/sparse/_base.py?line=335'>336</a>\u001b[0m \u001b[39melse\u001b[39;00m:\n\u001b[1;32m--> <a href='file:///e%3A/anaconda3/envs/cs506/lib/site-packages/scipy/sparse/_base.py?line=336'>337</a>\u001b[0m     \u001b[39mraise\u001b[39;00m \u001b[39mValueError\u001b[39;00m(\u001b[39m\"\u001b[39m\u001b[39mThe truth value of an array with more than one \u001b[39m\u001b[39m\"\u001b[39m\n\u001b[0;32m    <a href='file:///e%3A/anaconda3/envs/cs506/lib/site-packages/scipy/sparse/_base.py?line=337'>338</a>\u001b[0m                      \u001b[39m\"\u001b[39m\u001b[39melement is ambiguous. Use a.any() or a.all().\u001b[39m\u001b[39m\"\u001b[39m)\n",
      "\u001b[1;31mValueError\u001b[0m: The truth value of an array with more than one element is ambiguous. Use a.any() or a.all()."
     ]
    }
   ],
   "source": [
    "rng = np.random.RandomState(1)\n",
    "X = rng.randint(5, size=(6, 100))\n",
    "y = np.array([1, 2, 3, 4, 5, 6])\n",
    "clf = ComplementNB()\n",
    "clf.fit(X, y)\n",
    "print(clf.predict(X[2:3]))\n",
    "\n",
    "m = []\n",
    "\n",
    "for row in X:\n",
    "    m.append(csr_matrix([row]))\n",
    "a = pd.DataFrame(m)\n",
    "temp = csr_matrix([a[0]])\n",
    "temp"
   ]
  },
  {
   "cell_type": "code",
   "execution_count": 1,
   "metadata": {},
   "outputs": [
    {
     "ename": "NameError",
     "evalue": "name 'ComplementNB' is not defined",
     "output_type": "error",
     "traceback": [
      "\u001b[1;31m---------------------------------------------------------------------------\u001b[0m",
      "\u001b[1;31mNameError\u001b[0m                                 Traceback (most recent call last)",
      "\u001b[1;32mf:\\PycharmProjects\\midterm-royyoung388\\test.ipynb Cell 3'\u001b[0m in \u001b[0;36m<module>\u001b[1;34m\u001b[0m\n\u001b[1;32m----> <a href='vscode-notebook-cell:/f%3A/PycharmProjects/midterm-royyoung388/test.ipynb#ch0000016?line=0'>1</a>\u001b[0m clf \u001b[39m=\u001b[39m ComplementNB()\n\u001b[0;32m      <a href='vscode-notebook-cell:/f%3A/PycharmProjects/midterm-royyoung388/test.ipynb#ch0000016?line=1'>2</a>\u001b[0m clf\u001b[39m.\u001b[39mfit(a, y)\n\u001b[0;32m      <a href='vscode-notebook-cell:/f%3A/PycharmProjects/midterm-royyoung388/test.ipynb#ch0000016?line=2'>3</a>\u001b[0m \u001b[39mprint\u001b[39m(clf\u001b[39m.\u001b[39mpredict(X[\u001b[39m2\u001b[39m:\u001b[39m3\u001b[39m]))\n",
      "\u001b[1;31mNameError\u001b[0m: name 'ComplementNB' is not defined"
     ]
    }
   ],
   "source": [
    "clf = ComplementNB()\n",
    "clf.fit(a, y)\n",
    "print(clf.predict(X[2:3]))\n",
    "\n"
   ]
  }
 ],
 "metadata": {
  "interpreter": {
   "hash": "4e8e723b264b9c7710d9c430787c1b75ff8eb9b97006a27779a2e0cd72ceeaa1"
  },
  "kernelspec": {
   "display_name": "Python 3.9.7 ('cs506')",
   "language": "python",
   "name": "python3"
  },
  "language_info": {
   "codemirror_mode": {
    "name": "ipython",
    "version": 3
   },
   "file_extension": ".py",
   "mimetype": "text/x-python",
   "name": "python",
   "nbconvert_exporter": "python",
   "pygments_lexer": "ipython3",
   "version": "3.9.7"
  },
  "orig_nbformat": 4
 },
 "nbformat": 4,
 "nbformat_minor": 2
}
