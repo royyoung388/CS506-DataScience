{
 "cells": [
  {
   "cell_type": "markdown",
   "metadata": {},
   "source": [
    "# Homework 6\n",
    "\n",
    "The focus of this homework will be Network and Graphs as well as Neural Networks.\n",
    "\n",
    "## Exercise 1 [25pts]\n",
    "\n",
    "In this exercise, you will try to recommend new collaborations to researchers\n",
    "of the Machine Learning community. Our approach will follow the guidelines of\n",
    "collaborative filtering: “If your past behavior/preferences were similar\n",
    "to some other user’s, your future behavior may be as well”. As an\n",
    "example, imagine you like Rolling Stones, Beatles and Jimmy Hendrix. It turns\n",
    "out that most people that like the aforementioned artists, are also fans of Eric\n",
    "Clapton. Then, it is very likely that if you listen to Eric Clapton’s music, you\n",
    "will like it as well.\n",
    "\n",
    "In this assignment you will implement a recommendation system for suggesting new collaborations to Machine Learning researchers.\n",
    "\n",
    "A network as a graph: A graph or network represents relationships among\n",
    "different entities (users of a social network, researchers, products, etc.). Those\n",
    "entities are represented as nodes and the relationships between them (friends\n",
    "on Facebook, co-authors of a research paper, products purchased together) as\n",
    "edges. When there is an edge between two nodes, x and y, we say that y is a\n",
    "neighbor (or friend) of x (and also - as the graphs we consider are undirected -\n",
    "x is also a neighbor of y).\n",
    "\n",
    "Each line of `edges.txt` contains the names of two researchers that have co-authored a paper in one of the top Machine Learning conferences (NeurIPS, ICLR, ICML) between 2010 and 2016.\n",
    "\n",
    "a) Write a function that reads the file “old edges.txt” and create a\n",
    "graph using NetworkX. (This is a tab-separated value (TSV) file, you may\n",
    "use packages such as Pandas to read it.) [5pts]"
   ]
  },
  {
   "cell_type": "code",
   "execution_count": null,
   "metadata": {},
   "outputs": [],
   "source": [
    "import networkx"
   ]
  },
  {
   "cell_type": "markdown",
   "metadata": {},
   "source": [
    "b) Recommend by number of common friends. [10pts]\n",
    "\n",
    "The intuition behind this recommendation algorithm is that if non-friend\n",
    "Y is your friend’s friend, then maybe Y should be your friend too. If\n",
    "person Y is the friend of many of your friends, then Y is an even better\n",
    "recommendation.\n",
    "\n",
    "Write a function `common_friends_number(G, X)` that, given G and an author\n",
    "X, returns a list of recommendations for X. The authors in this list are sorted\n",
    "by the number of common neighbors they have with X (and are not of course\n",
    "already friends with X). If there are ties, you can break them arbitrarily."
   ]
  },
  {
   "cell_type": "code",
   "execution_count": null,
   "metadata": {},
   "outputs": [],
   "source": []
  },
  {
   "cell_type": "markdown",
   "metadata": {},
   "source": [
    "c) Make recommendations using Jaccard’s Index. [10points]\n",
    "\n",
    "If Γ(X) is the set of neighbors of X, then the metric we used in part (c), assigns to a non-friend y, the following recommendation score (with respect to X):\n",
    "\n",
    "score(y) = |Γ(X)∩Γ(y)|.\n",
    "\n",
    "Jaccard’s Index scales this score by taking into account the union of X and Y ’s neighbors. Intuitively, X and Y are more similar, if what they have in common is as close as possible to what they have together.\n",
    "\n",
    "Write a function jaccard index(G, X) that given G and an author X, returns a\n",
    "list of recommendations for X. The authors in this list are sorted by the number\n",
    "of their Jaccard Index with respect to X (and are not of course already friends\n",
    "with X). If there are ties, you can break them arbitrarily.\n",
    "\n",
    "Jaccard Index = |Γ(X)∩Γ(y)| / |Γ(X)∪Γ(y)|"
   ]
  },
  {
   "cell_type": "code",
   "execution_count": null,
   "metadata": {},
   "outputs": [],
   "source": []
  },
  {
   "cell_type": "markdown",
   "metadata": {},
   "source": [
    "## Exercise 2 [55pts]\n",
    "\n",
    "This exercise will focus on Neural Networks and visualization.\n",
    "\n",
    "a) Write a function that takes a keras network and outputs an image (png format) of the network. [10pts]\n",
    "\n",
    "You can assume the model is sequential and only uses dense layers. The output image for\n",
    "\n",
    "```python\n",
    "    model = keras.models.Sequential()\n",
    "    model.add(layers.Dense(2, input_dim=2))\n",
    "    model.add(layers.Dense(1))\n",
    "    model.compile(loss=\"binary_crossentropy\")\n",
    "```\n",
    "\n",
    "should look something like this"
   ]
  },
  {
   "cell_type": "code",
   "execution_count": 1,
   "metadata": {},
   "outputs": [
    {
     "data": {
      "image/png": "[encoded data removed]",
      "text/plain": [
       "<IPython.core.display.Image object>"
      ]
     },
     "execution_count": 1,
     "metadata": {},
     "output_type": "execute_result"
    }
   ],
   "source": [
    "from IPython.display import Image\n",
    "Image(filename=\"example.png\")"
   ]
  },
  {
   "cell_type": "markdown",
   "metadata": {},
   "source": [
    "Hint: use the networkx library (specifically the [to_agraph](https://networkx.org/documentation/stable/reference/generated/networkx.drawing.nx_agraph.to_agraph.html) method)"
   ]
  },
  {
   "cell_type": "code",
   "execution_count": null,
   "metadata": {},
   "outputs": [],
   "source": []
  },
  {
   "cell_type": "markdown",
   "metadata": {},
   "source": [
    "b) Generate 100 datapoints of the form y = 3x + 1 + e where e ~ N(0, 1) and plot the data in a scatter plot [5pts]"
   ]
  },
  {
   "cell_type": "code",
   "execution_count": null,
   "metadata": {},
   "outputs": [],
   "source": []
  },
  {
   "cell_type": "markdown",
   "metadata": {},
   "source": [
    "c) Create a Neural Network with no hidden layers (just input to ouput each with just one neuron), using the `mean_squared_error` loss and no activation function. Create an image of this model using a) then train this model on the dataset from b). In a 3D plot, plot the weight, the bias, and the loss value. [10pts]"
   ]
  },
  {
   "cell_type": "code",
   "execution_count": null,
   "metadata": {},
   "outputs": [],
   "source": []
  },
  {
   "cell_type": "markdown",
   "metadata": {},
   "source": [
    "d) Using matplotlib animation, re-train the model from c) and create an animation of the weight, bias, and loss at each training epoch. [10pts]"
   ]
  },
  {
   "cell_type": "code",
   "execution_count": null,
   "metadata": {},
   "outputs": [],
   "source": []
  },
  {
   "cell_type": "markdown",
   "metadata": {},
   "source": [
    "e) Generate data of the form y = 3x^3 + 2x^2 + x + 1 + e where e ~ N(0, 1) and plot the data in a scatter plot [5pts]"
   ]
  },
  {
   "cell_type": "code",
   "execution_count": null,
   "metadata": {},
   "outputs": [],
   "source": []
  },
  {
   "cell_type": "markdown",
   "metadata": {},
   "source": [
    "f) Create and train a neural network on the dataset from b) and plot the resulting curve through the scatter plot. (you can use any number of epochs, hidden layers etc.) Also create an image of the network using the function from a) [10pts]"
   ]
  },
  {
   "cell_type": "code",
   "execution_count": null,
   "metadata": {},
   "outputs": [],
   "source": []
  },
  {
   "cell_type": "markdown",
   "metadata": {},
   "source": [
    "g) Using matplotlib animation, create an animation of the resulting curve from your model at each training epoch (up to 100 epochs). [5pts]"
   ]
  },
  {
   "cell_type": "code",
   "execution_count": null,
   "metadata": {},
   "outputs": [],
   "source": []
  },
  {
   "cell_type": "markdown",
   "metadata": {},
   "source": [
    "## Exercise 3 [20pts]\n",
    "\n",
    "This exercise will focus on Neural Networks.\n",
    "\n"
   ]
  },
  {
   "cell_type": "code",
   "execution_count": null,
   "metadata": {},
   "outputs": [],
   "source": [
    "from torch.utils.data import Dataset\n",
    "from torchvision import datasets\n",
    "from torchvision.transforms import ToTensor\n",
    "import matplotlib.pyplot as plt\n",
    "import torch \n",
    "import torch.nn as nn \n",
    "import torch.nn.functional as F\n",
    "import torchvision \n",
    "import torchvision.transforms as transforms \n",
    "from torch.optim import SGD, Adam\n",
    "from tqdm import tqdm "
   ]
  },
  {
   "cell_type": "markdown",
   "metadata": {},
   "source": [
    "a) Modify the number of layers to include atleast 2 hidden layers with appropriate number of neurons that use the sigmoid function in the forward pass: [5pts]"
   ]
  },
  {
   "cell_type": "code",
   "execution_count": null,
   "metadata": {},
   "outputs": [],
   "source": [
    "class NeuralNetwork(nn.Module):\n",
    "  def __init__(self, input_size):\n",
    "    super(NeuralNetwork, self).__init__()\n",
    "    # You are free to define any number of layers you want to here\n",
    "\n",
    "    self.layer1 = nn.Linear(input_size, 800)\n",
    "    # your code here\n",
    "    self.output = nn.Linear(300, 10)  \n",
    "    self.dropout = nn.Dropout(0.2)\n",
    "\n",
    "\n",
    "  def forward(self, input):\n",
    "    x = F.relu(self.layer1(input))\n",
    "    # your code here\n",
    "    x = self.dropout(x)\n",
    "    outputs = self.output(x)\n",
    "\n",
    "    return F.softmax(outputs)"
   ]
  },
  {
   "cell_type": "markdown",
   "metadata": {},
   "source": [
    "b) Modify the following values to provide the highest accuracy on your Neural Network [2pts]"
   ]
  },
  {
   "cell_type": "code",
   "execution_count": null,
   "metadata": {},
   "outputs": [],
   "source": [
    "epochs = 10                      # number of epochs\n",
    "device = torch.device(\"cuda\" if torch.cuda.is_available() else \"cpu\")     # device\n",
    "criterion = nn.CrossEntropyLoss() # loss function\n",
    "batch_size = 500"
   ]
  },
  {
   "cell_type": "markdown",
   "metadata": {},
   "source": [
    "Run the following cell everytime you update parts a and b"
   ]
  },
  {
   "cell_type": "code",
   "execution_count": null,
   "metadata": {},
   "outputs": [],
   "source": [
    "net = NeuralNetwork(784).to(device)\n",
    "optimizer = Adam(net.parameters(), lr = 1e-2)\n",
    "\n",
    "total_loss = 0\n",
    "\n",
    "\n",
    "#######################################\n",
    "### Downloading the data\n",
    "\n",
    "\n",
    "training_data = datasets.FashionMNIST(\n",
    "    root=\"data\",\n",
    "    train=True,\n",
    "    download=True,\n",
    "    transform=ToTensor()\n",
    ")\n",
    "\n",
    "test_data = datasets.FashionMNIST(\n",
    "    root=\"data\",\n",
    "    train=False,\n",
    "    download=True,\n",
    "    transform=ToTensor()\n",
    ")\n",
    "\n",
    "train_dataloader = torch.utils.data.DataLoader(training_data, batch_size = batch_size, shuffle = True, num_workers=2)\n",
    "train_dataloader2 = torch.utils.data.DataLoader(training_data, batch_size = batch_size, shuffle = True, num_workers=2)\n",
    "\n",
    "test_dataloader = torch.utils.data.DataLoader(test_data, batch_size = batch_size, shuffle = True, num_workers=2)\n",
    "test_dataloader2 = torch.utils.data.DataLoader(test_data, batch_size = batch_size, shuffle = True, num_workers=2)"
   ]
  },
  {
   "cell_type": "markdown",
   "metadata": {},
   "source": [
    "c) You may change the model to increase the accuracy of this model. The goal is to attain the highest possible accuracy. You do not get marks for accuracies less than 83%. You may modify the values in parts a and b [8pts]"
   ]
  },
  {
   "cell_type": "code",
   "execution_count": null,
   "metadata": {},
   "outputs": [],
   "source": [
    "for epoch in tqdm(range(epochs)): \n",
    "  epoch_loss = 0\n",
    "  for i, data in enumerate(train_dataloader): \n",
    "    inputs, labels = data \n",
    "\n",
    "    optimizer.zero_grad() \n",
    "    outputs = net(inputs.view(batch_size,-1).to(device))\n",
    "\n",
    "    labels_ = F.one_hot(labels, num_classes= 10)\n",
    "\n",
    "    loss = criterion(outputs,labels_.to(device).float())\n",
    "    loss.backward()  # update network parameters\n",
    "\n",
    "    optimizer.step() # update the optimizer parameters \n",
    "\n",
    "    total_loss += loss.item() \n",
    "    epoch_loss += loss.item()\n",
    "  \n",
    "  with torch.no_grad():\n",
    "    net.eval()\n",
    "    correct = 0\n",
    "    total = 0\n",
    "    for i, data in enumerate(train_dataloader2):\n",
    "      input, labels = data\n",
    "      outputs = net(input.view(batch_size,-1).to(device))\n",
    "\n",
    "      total+= len(labels)\n",
    "\n",
    "      predictions = torch.argmax(outputs, dim = 1)\n",
    "      predictions = predictions.to(\"cpu\").numpy() \n",
    "      correct += sum(1*(labels.numpy()==predictions))\n",
    "  \n",
    "  with torch.no_grad():\n",
    "    net.eval()\n",
    "    correct_test = 0\n",
    "    total_test = 0\n",
    "    for i, data in enumerate(test_dataloader):\n",
    "      input, labels = data\n",
    "      outputs = net(input.view(batch_size,-1).to(device))\n",
    "\n",
    "      total_test+= len(labels)\n",
    "\n",
    "      predictions = torch.argmax(outputs, dim = 1)\n",
    "      predictions = predictions.to(\"cpu\").numpy() \n",
    "      correct_test += sum(1*(labels.numpy()==predictions))\n",
    "\n",
    "  print(\"epoch = \", epoch, \" loss = \", epoch_loss, \"  training accuracy = \", correct/total, \"test accuracy = \", correct_test/total_test)"
   ]
  },
  {
   "cell_type": "markdown",
   "metadata": {},
   "source": [
    "d) Explain in ~150 words the method you used to increase the accuracy. [5pts]"
   ]
  },
  {
   "cell_type": "markdown",
   "metadata": {},
   "source": []
  }
 ],
 "metadata": {
  "interpreter": {
   "hash": "e7370f93d1d0cde622a1f8e1c04877d8463912d04d973331ad4851f04de6915a"
  },
  "kernelspec": {
   "display_name": "Python 3.9.9 64-bit",
   "language": "python",
   "name": "python3"
  },
  "language_info": {
   "codemirror_mode": {
    "name": "ipython",
    "version": 3
   },
   "file_extension": ".py",
   "mimetype": "text/x-python",
   "name": "python",
   "nbconvert_exporter": "python",
   "pygments_lexer": "ipython3",
   "version": "3.9.9"
  },
  "orig_nbformat": 4
 },
 "nbformat": 4,
 "nbformat_minor": 2
}
